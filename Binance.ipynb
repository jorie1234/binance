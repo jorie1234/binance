{
 "cells": [
  {
   "cell_type": "markdown",
   "metadata": {},
   "source": [
    "### Install binance package"
   ]
  },
  {
   "cell_type": "code",
   "execution_count": 1,
   "metadata": {},
   "outputs": [
    {
     "name": "stdout",
     "output_type": "stream",
     "text": [
      "Collecting python-binance\n",
      "  Downloading python_binance-0.7.9-py2.py3-none-any.whl (36 kB)\n",
      "Requirement already satisfied: certifi in /opt/conda/lib/python3.7/site-packages (from python-binance) (2020.4.5.1)\n",
      "Requirement already satisfied: pyOpenSSL in /opt/conda/lib/python3.7/site-packages (from python-binance) (19.1.0)\n",
      "Collecting service-identity\n",
      "  Downloading service_identity-18.1.0-py2.py3-none-any.whl (11 kB)\n",
      "Collecting dateparser\n",
      "  Downloading dateparser-1.0.0-py2.py3-none-any.whl (279 kB)\n",
      "\u001b[K     |████████████████████████████████| 279 kB 1.9 MB/s eta 0:00:01\n",
      "\u001b[?25hRequirement already satisfied: cryptography in /opt/conda/lib/python3.7/site-packages (from python-binance) (2.9.2)\n",
      "Collecting autobahn\n",
      "  Downloading autobahn-21.3.1-py2.py3-none-any.whl (495 kB)\n",
      "\u001b[K     |████████████████████████████████| 495 kB 3.4 MB/s eta 0:00:01\n",
      "\u001b[?25hCollecting ujson\n",
      "  Downloading ujson-4.0.2-cp37-cp37m-manylinux1_x86_64.whl (179 kB)\n",
      "\u001b[K     |████████████████████████████████| 179 kB 3.5 MB/s eta 0:00:01\n",
      "\u001b[?25hRequirement already satisfied: urllib3 in /opt/conda/lib/python3.7/site-packages (from python-binance) (1.25.9)\n",
      "Requirement already satisfied: requests in /opt/conda/lib/python3.7/site-packages (from python-binance) (2.23.0)\n",
      "Collecting Twisted\n",
      "  Downloading Twisted-21.2.0-py3-none-any.whl (3.1 MB)\n",
      "\u001b[K     |████████████████████████████████| 3.1 MB 3.6 MB/s eta 0:00:01\n",
      "\u001b[?25hRequirement already satisfied: six in /opt/conda/lib/python3.7/site-packages (from python-binance) (1.14.0)\n",
      "Requirement already satisfied: attrs>=16.0.0 in /opt/conda/lib/python3.7/site-packages (from service-identity->python-binance) (19.3.0)\n",
      "Collecting pyasn1\n",
      "  Downloading pyasn1-0.4.8-py2.py3-none-any.whl (77 kB)\n",
      "\u001b[K     |████████████████████████████████| 77 kB 3.6 MB/s eta 0:00:01\n",
      "\u001b[?25hCollecting pyasn1-modules\n",
      "  Downloading pyasn1_modules-0.2.8-py2.py3-none-any.whl (155 kB)\n",
      "\u001b[K     |████████████████████████████████| 155 kB 5.3 MB/s eta 0:00:01\n",
      "\u001b[?25hRequirement already satisfied: tzlocal in /opt/conda/lib/python3.7/site-packages (from dateparser->python-binance) (2.0.0)\n",
      "Requirement already satisfied: pytz in /opt/conda/lib/python3.7/site-packages (from dateparser->python-binance) (2020.1)\n",
      "Collecting regex!=2019.02.19\n",
      "  Downloading regex-2021.3.17-cp37-cp37m-manylinux2014_x86_64.whl (721 kB)\n",
      "\u001b[K     |████████████████████████████████| 721 kB 5.6 MB/s eta 0:00:01\n",
      "\u001b[?25hRequirement already satisfied: python-dateutil in /opt/conda/lib/python3.7/site-packages (from dateparser->python-binance) (2.8.1)\n",
      "Requirement already satisfied: cffi!=1.11.3,>=1.8 in /opt/conda/lib/python3.7/site-packages (from cryptography->python-binance) (1.14.0)\n",
      "Collecting hyperlink>=21.0.0\n",
      "  Downloading hyperlink-21.0.0-py2.py3-none-any.whl (74 kB)\n",
      "\u001b[K     |████████████████████████████████| 74 kB 1.6 MB/s eta 0:00:01\n",
      "\u001b[?25hCollecting txaio>=21.2.1\n",
      "  Downloading txaio-21.2.1-py2.py3-none-any.whl (30 kB)\n",
      "Requirement already satisfied: idna<3,>=2.5 in /opt/conda/lib/python3.7/site-packages (from requests->python-binance) (2.9)\n",
      "Requirement already satisfied: chardet<4,>=3.0.2 in /opt/conda/lib/python3.7/site-packages (from requests->python-binance) (3.0.4)\n",
      "Collecting Automat>=0.8.0\n",
      "  Downloading Automat-20.2.0-py2.py3-none-any.whl (31 kB)\n",
      "Collecting constantly>=15.1\n",
      "  Downloading constantly-15.1.0-py2.py3-none-any.whl (7.9 kB)\n",
      "Collecting incremental>=16.10.1\n",
      "  Downloading incremental-21.3.0-py2.py3-none-any.whl (15 kB)\n",
      "Collecting zope.interface>=4.4.2\n",
      "  Downloading zope.interface-5.3.0-cp37-cp37m-manylinux2010_x86_64.whl (248 kB)\n",
      "\u001b[K     |████████████████████████████████| 248 kB 6.0 MB/s eta 0:00:01\n",
      "\u001b[?25hRequirement already satisfied: pycparser in /opt/conda/lib/python3.7/site-packages (from cffi!=1.11.3,>=1.8->cryptography->python-binance) (2.20)\n",
      "Requirement already satisfied: setuptools in /opt/conda/lib/python3.7/site-packages (from zope.interface>=4.4.2->Twisted->python-binance) (46.1.3.post20200325)\n",
      "\u001b[31mERROR: autobahn 21.3.1 has requirement cryptography>=3.4.6, but you'll have cryptography 2.9.2 which is incompatible.\u001b[0m\n",
      "Installing collected packages: pyasn1, pyasn1-modules, service-identity, regex, dateparser, hyperlink, txaio, autobahn, ujson, Automat, constantly, incremental, zope.interface, Twisted, python-binance\n",
      "Successfully installed Automat-20.2.0 Twisted-21.2.0 autobahn-21.3.1 constantly-15.1.0 dateparser-1.0.0 hyperlink-21.0.0 incremental-21.3.0 pyasn1-0.4.8 pyasn1-modules-0.2.8 python-binance-0.7.9 regex-2021.3.17 service-identity-18.1.0 txaio-21.2.1 ujson-4.0.2 zope.interface-5.3.0\n"
     ]
    }
   ],
   "source": [
    "!pip install python-binance"
   ]
  },
  {
   "cell_type": "code",
   "execution_count": 37,
   "metadata": {},
   "outputs": [
    {
     "name": "stdout",
     "output_type": "stream",
     "text": [
      "Collecting python-dotenv\n",
      "  Downloading python_dotenv-0.15.0-py2.py3-none-any.whl (18 kB)\n",
      "Installing collected packages: python-dotenv\n",
      "Successfully installed python-dotenv-0.15.0\n"
     ]
    }
   ],
   "source": [
    "!pip install python-dotenv"
   ]
  },
  {
   "cell_type": "code",
   "execution_count": null,
   "metadata": {},
   "outputs": [
    {
     "data": {
      "text/html": [
       "<script>Jupyter.notebook.kernel.restart()</script>"
      ]
     },
     "metadata": {},
     "output_type": "display_data"
    }
   ],
   "source": [
    "from IPython.display import display_html\n",
    "def restartkernel() :\n",
    "    display_html(\"<script>Jupyter.notebook.kernel.restart()</script>\",raw=True)\n",
    "    \n",
    "restartkernel()"
   ]
  },
  {
   "cell_type": "markdown",
   "metadata": {},
   "source": [
    "### Remember to restart Kernel after installling binance package !!"
   ]
  },
  {
   "cell_type": "markdown",
   "metadata": {},
   "source": [
    "Create an .env File with your Binance Credentials:\n",
    "```\n",
    " export BINANCE_KEY=XXXXXXXXXXXXXXXXXXXXXXXXXXXXXX\n",
    " export BINANCE_SECRET=XXXXXXXXXXXXXXXXXXXXXXXXXXXXXXX\n",
    "```"
   ]
  },
  {
   "cell_type": "code",
   "execution_count": 40,
   "metadata": {},
   "outputs": [
    {
     "name": "stdout",
     "output_type": "stream",
     "text": [
      "The dotenv extension is already loaded. To reload it, use:\n",
      "  %reload_ext dotenv\n"
     ]
    }
   ],
   "source": [
    "%load_ext dotenv\n",
    "%dotenv"
   ]
  },
  {
   "cell_type": "code",
   "execution_count": 42,
   "metadata": {},
   "outputs": [],
   "source": [
    "# IMPORTS\n",
    "import pandas as pd\n",
    "import math\n",
    "import os.path\n",
    "import os\n",
    "import time\n",
    "from binance.client import Client\n",
    "from datetime import timedelta, datetime\n",
    "from dateutil import parser\n",
    "from tqdm import tqdm_notebook #(Optional, used for progress-bars)\n",
    "\n",
    "### API\n",
    "binance_api_key = os.getenv('BINANCE_KEY')    #Enter your own API-key here\n",
    "binance_api_secret = os.getenv('BINANCE_SECRET')  #Enter your own API-secret here\n",
    "\n",
    "### CONSTANTS\n",
    "binsizes = {\"1m\": 1, \"15m\": 15, \"5m\": 5, \"1h\": 60, \"1d\": 1440}\n",
    "batch_size = 750\n",
    "binance_client = Client(api_key=binance_api_key, api_secret=binance_api_secret)\n",
    "\n",
    "\n",
    "### FUNCTIONS\n",
    "def minutes_of_new_data(symbol, kline_size, data, source):\n",
    "    if len(data) > 0:  old = parser.parse(data[\"timestamp\"].iloc[-1])\n",
    "    elif source == \"binance\": old = datetime.strptime('1 Jan 2017', '%d %b %Y')\n",
    "    elif source == \"bitmex\": old = bitmex_client.Trade.Trade_getBucketed(symbol=symbol, binSize=kline_size, count=1, reverse=False).result()[0][0]['timestamp']\n",
    "    if source == \"binance\": new = pd.to_datetime(binance_client.get_klines(symbol=symbol, interval=kline_size)[-1][0], unit='ms')\n",
    "    if source == \"bitmex\": new = bitmex_client.Trade.Trade_getBucketed(symbol=symbol, binSize=kline_size, count=1, reverse=True).result()[0][0]['timestamp']\n",
    "    return old, new\n",
    "\n",
    "def get_all_binance(symbol, kline_size, save = False):\n",
    "    filename = '%s-%s-data.csv' % (symbol, kline_size)\n",
    "    if os.path.isfile(filename): data_df = pd.read_csv(filename)\n",
    "    else: data_df = pd.DataFrame()\n",
    "    oldest_point, newest_point = minutes_of_new_data(symbol, kline_size, data_df, source = \"binance\")\n",
    "    delta_min = (newest_point - oldest_point).total_seconds()/60\n",
    "    available_data = math.ceil(delta_min/binsizes[kline_size])\n",
    "    if oldest_point == datetime.strptime('1 Jan 2017', '%d %b %Y'): print('Downloading all available %s data for %s. Be patient..!' % (kline_size, symbol))\n",
    "    else: print('Downloading %d minutes of new data available for %s, i.e. %d instances of %s data.' % (delta_min, symbol, available_data, kline_size))\n",
    "    klines = binance_client.get_historical_klines(symbol, kline_size, oldest_point.strftime(\"%d %b %Y %H:%M:%S\"), newest_point.strftime(\"%d %b %Y %H:%M:%S\"))\n",
    "    data = pd.DataFrame(klines, columns = ['timestamp', 'open', 'high', 'low', 'close', 'volume', 'close_time', 'quote_av', 'trades', 'tb_base_av', 'tb_quote_av', 'ignore' ])\n",
    "    data['timestamp'] = pd.to_datetime(data['timestamp'], unit='ms')\n",
    "    if len(data_df) > 0:\n",
    "        temp_df = pd.DataFrame(data)\n",
    "        data_df = data_df.append(temp_df)\n",
    "    else: data_df = data\n",
    "    data_df.set_index('timestamp', inplace=True)\n",
    "    if save: data_df.to_csv(filename)\n",
    "    print('All caught up..!')\n",
    "    return data_df\n",
    "\n"
   ]
  },
  {
   "cell_type": "code",
   "execution_count": 3,
   "metadata": {},
   "outputs": [
    {
     "name": "stdout",
     "output_type": "stream",
     "text": [
      "Downloading all available 15m data for BTCEUR. Be patient..!\n",
      "All caught up..!\n",
      "Downloading all available 15m data for ETHEUR. Be patient..!\n",
      "All caught up..!\n",
      "Downloading all available 15m data for ADAEUR. Be patient..!\n",
      "All caught up..!\n"
     ]
    }
   ],
   "source": [
    "binance_symbols = [\"BTCEUR\", \"ETHEUR\", \"ADAEUR\"]\n",
    "for symbol in binance_symbols:\n",
    "    get_all_binance(symbol,Client.KLINE_INTERVAL_1MINUTE, save = True)\n"
   ]
  },
  {
   "cell_type": "code",
   "execution_count": 43,
   "metadata": {},
   "outputs": [
    {
     "data": {
      "text/html": [
       "<div>\n",
       "<style scoped>\n",
       "    .dataframe tbody tr th:only-of-type {\n",
       "        vertical-align: middle;\n",
       "    }\n",
       "\n",
       "    .dataframe tbody tr th {\n",
       "        vertical-align: top;\n",
       "    }\n",
       "\n",
       "    .dataframe thead th {\n",
       "        text-align: right;\n",
       "    }\n",
       "</style>\n",
       "<table border=\"1\" class=\"dataframe\">\n",
       "  <thead>\n",
       "    <tr style=\"text-align: right;\">\n",
       "      <th></th>\n",
       "      <th>timestamp</th>\n",
       "      <th>open</th>\n",
       "      <th>high</th>\n",
       "      <th>low</th>\n",
       "      <th>close</th>\n",
       "      <th>volume</th>\n",
       "      <th>close_time</th>\n",
       "      <th>quote_av</th>\n",
       "      <th>trades</th>\n",
       "      <th>tb_base_av</th>\n",
       "      <th>tb_quote_av</th>\n",
       "      <th>ignore</th>\n",
       "    </tr>\n",
       "  </thead>\n",
       "  <tbody>\n",
       "    <tr>\n",
       "      <th>0</th>\n",
       "      <td>2020-01-03 08:00:00</td>\n",
       "      <td>6244.33</td>\n",
       "      <td>6478.91</td>\n",
       "      <td>6244.33</td>\n",
       "      <td>6478.91</td>\n",
       "      <td>0.130778</td>\n",
       "      <td>1578039299999</td>\n",
       "      <td>843.997189</td>\n",
       "      <td>4</td>\n",
       "      <td>0.066122</td>\n",
       "      <td>427.929327</td>\n",
       "      <td>0</td>\n",
       "    </tr>\n",
       "    <tr>\n",
       "      <th>1</th>\n",
       "      <td>2020-01-03 08:15:00</td>\n",
       "      <td>6478.91</td>\n",
       "      <td>6478.91</td>\n",
       "      <td>6478.91</td>\n",
       "      <td>6478.91</td>\n",
       "      <td>0.000000</td>\n",
       "      <td>1578040199999</td>\n",
       "      <td>0.000000</td>\n",
       "      <td>0</td>\n",
       "      <td>0.000000</td>\n",
       "      <td>0.000000</td>\n",
       "      <td>0</td>\n",
       "    </tr>\n",
       "    <tr>\n",
       "      <th>2</th>\n",
       "      <td>2020-01-03 08:30:00</td>\n",
       "      <td>6450.00</td>\n",
       "      <td>6478.91</td>\n",
       "      <td>6450.00</td>\n",
       "      <td>6478.91</td>\n",
       "      <td>0.178018</td>\n",
       "      <td>1578041099999</td>\n",
       "      <td>1150.334582</td>\n",
       "      <td>8</td>\n",
       "      <td>0.053882</td>\n",
       "      <td>348.885297</td>\n",
       "      <td>0</td>\n",
       "    </tr>\n",
       "    <tr>\n",
       "      <th>3</th>\n",
       "      <td>2020-01-03 08:45:00</td>\n",
       "      <td>6506.73</td>\n",
       "      <td>6506.73</td>\n",
       "      <td>6506.73</td>\n",
       "      <td>6506.73</td>\n",
       "      <td>0.001659</td>\n",
       "      <td>1578041999999</td>\n",
       "      <td>10.794665</td>\n",
       "      <td>1</td>\n",
       "      <td>0.000000</td>\n",
       "      <td>0.000000</td>\n",
       "      <td>0</td>\n",
       "    </tr>\n",
       "    <tr>\n",
       "      <th>4</th>\n",
       "      <td>2020-01-03 09:00:00</td>\n",
       "      <td>6548.22</td>\n",
       "      <td>6551.62</td>\n",
       "      <td>6548.22</td>\n",
       "      <td>6551.62</td>\n",
       "      <td>0.050000</td>\n",
       "      <td>1578042899999</td>\n",
       "      <td>327.482250</td>\n",
       "      <td>2</td>\n",
       "      <td>0.050000</td>\n",
       "      <td>327.482250</td>\n",
       "      <td>0</td>\n",
       "    </tr>\n",
       "  </tbody>\n",
       "</table>\n",
       "</div>"
      ],
      "text/plain": [
       "             timestamp     open     high      low    close    volume  \\\n",
       "0  2020-01-03 08:00:00  6244.33  6478.91  6244.33  6478.91  0.130778   \n",
       "1  2020-01-03 08:15:00  6478.91  6478.91  6478.91  6478.91  0.000000   \n",
       "2  2020-01-03 08:30:00  6450.00  6478.91  6450.00  6478.91  0.178018   \n",
       "3  2020-01-03 08:45:00  6506.73  6506.73  6506.73  6506.73  0.001659   \n",
       "4  2020-01-03 09:00:00  6548.22  6551.62  6548.22  6551.62  0.050000   \n",
       "\n",
       "      close_time     quote_av  trades  tb_base_av  tb_quote_av  ignore  \n",
       "0  1578039299999   843.997189       4    0.066122   427.929327       0  \n",
       "1  1578040199999     0.000000       0    0.000000     0.000000       0  \n",
       "2  1578041099999  1150.334582       8    0.053882   348.885297       0  \n",
       "3  1578041999999    10.794665       1    0.000000     0.000000       0  \n",
       "4  1578042899999   327.482250       2    0.050000   327.482250       0  "
      ]
     },
     "execution_count": 43,
     "metadata": {},
     "output_type": "execute_result"
    }
   ],
   "source": [
    "btc=pd.read_csv(\"BTCEUR-15m-data.csv\")\n",
    "btc.head()"
   ]
  },
  {
   "cell_type": "code",
   "execution_count": 44,
   "metadata": {},
   "outputs": [],
   "source": [
    "import matplotlib.pyplot as plt\n",
    "import matplotlib.ticker as ticker"
   ]
  },
  {
   "cell_type": "code",
   "execution_count": 45,
   "metadata": {},
   "outputs": [
    {
     "data": {
      "text/plain": [
       "<matplotlib.axes._subplots.AxesSubplot at 0x7fa3a5c87f10>"
      ]
     },
     "execution_count": 45,
     "metadata": {},
     "output_type": "execute_result"
    },
    {
     "data": {
      "image/png": "[encoded data removed]",
      "text/plain": [
       "<Figure size 432x288 with 1 Axes>"
      ]
     },
     "metadata": {
      "needs_background": "light"
     },
     "output_type": "display_data"
    }
   ],
   "source": [
    "btc.plot(x=\"timestamp\", y=\"open\",rot=70)"
   ]
  },
  {
   "cell_type": "code",
   "execution_count": 46,
   "metadata": {},
   "outputs": [
    {
     "data": {
      "text/html": [
       "<div>\n",
       "<style scoped>\n",
       "    .dataframe tbody tr th:only-of-type {\n",
       "        vertical-align: middle;\n",
       "    }\n",
       "\n",
       "    .dataframe tbody tr th {\n",
       "        vertical-align: top;\n",
       "    }\n",
       "\n",
       "    .dataframe thead th {\n",
       "        text-align: right;\n",
       "    }\n",
       "</style>\n",
       "<table border=\"1\" class=\"dataframe\">\n",
       "  <thead>\n",
       "    <tr style=\"text-align: right;\">\n",
       "      <th></th>\n",
       "      <th>timestamp</th>\n",
       "      <th>open</th>\n",
       "      <th>high</th>\n",
       "      <th>low</th>\n",
       "      <th>close</th>\n",
       "      <th>volume</th>\n",
       "      <th>close_time</th>\n",
       "      <th>quote_av</th>\n",
       "      <th>trades</th>\n",
       "      <th>tb_base_av</th>\n",
       "      <th>tb_quote_av</th>\n",
       "      <th>ignore</th>\n",
       "    </tr>\n",
       "  </thead>\n",
       "  <tbody>\n",
       "    <tr>\n",
       "      <th>40490</th>\n",
       "      <td>2021-03-01 00:15:00</td>\n",
       "      <td>37706.06</td>\n",
       "      <td>38401.15</td>\n",
       "      <td>37672.96</td>\n",
       "      <td>38268.84</td>\n",
       "      <td>59.363597</td>\n",
       "      <td>1614558599999</td>\n",
       "      <td>2.266480e+06</td>\n",
       "      <td>3019</td>\n",
       "      <td>32.643451</td>\n",
       "      <td>1.246248e+06</td>\n",
       "      <td>0</td>\n",
       "    </tr>\n",
       "    <tr>\n",
       "      <th>40491</th>\n",
       "      <td>2021-03-01 00:30:00</td>\n",
       "      <td>38278.45</td>\n",
       "      <td>38600.00</td>\n",
       "      <td>38270.15</td>\n",
       "      <td>38343.60</td>\n",
       "      <td>41.559889</td>\n",
       "      <td>1614559499999</td>\n",
       "      <td>1.598640e+06</td>\n",
       "      <td>2082</td>\n",
       "      <td>26.339773</td>\n",
       "      <td>1.013036e+06</td>\n",
       "      <td>0</td>\n",
       "    </tr>\n",
       "    <tr>\n",
       "      <th>40492</th>\n",
       "      <td>2021-03-01 00:45:00</td>\n",
       "      <td>38342.03</td>\n",
       "      <td>38487.66</td>\n",
       "      <td>38253.06</td>\n",
       "      <td>38326.84</td>\n",
       "      <td>19.732699</td>\n",
       "      <td>1614560399999</td>\n",
       "      <td>7.570162e+05</td>\n",
       "      <td>1299</td>\n",
       "      <td>9.807765</td>\n",
       "      <td>3.761798e+05</td>\n",
       "      <td>0</td>\n",
       "    </tr>\n",
       "    <tr>\n",
       "      <th>40493</th>\n",
       "      <td>2021-03-01 01:00:00</td>\n",
       "      <td>38328.69</td>\n",
       "      <td>38425.42</td>\n",
       "      <td>38153.23</td>\n",
       "      <td>38220.06</td>\n",
       "      <td>13.811259</td>\n",
       "      <td>1614561299999</td>\n",
       "      <td>5.286249e+05</td>\n",
       "      <td>1050</td>\n",
       "      <td>6.920973</td>\n",
       "      <td>2.648596e+05</td>\n",
       "      <td>0</td>\n",
       "    </tr>\n",
       "    <tr>\n",
       "      <th>40494</th>\n",
       "      <td>2021-03-01 01:15:00</td>\n",
       "      <td>38221.98</td>\n",
       "      <td>38316.13</td>\n",
       "      <td>38069.09</td>\n",
       "      <td>38277.22</td>\n",
       "      <td>26.304264</td>\n",
       "      <td>1614562199999</td>\n",
       "      <td>1.004925e+06</td>\n",
       "      <td>1200</td>\n",
       "      <td>11.803032</td>\n",
       "      <td>4.507826e+05</td>\n",
       "      <td>0</td>\n",
       "    </tr>\n",
       "    <tr>\n",
       "      <th>...</th>\n",
       "      <td>...</td>\n",
       "      <td>...</td>\n",
       "      <td>...</td>\n",
       "      <td>...</td>\n",
       "      <td>...</td>\n",
       "      <td>...</td>\n",
       "      <td>...</td>\n",
       "      <td>...</td>\n",
       "      <td>...</td>\n",
       "      <td>...</td>\n",
       "      <td>...</td>\n",
       "      <td>...</td>\n",
       "    </tr>\n",
       "    <tr>\n",
       "      <th>42752</th>\n",
       "      <td>2021-03-24 15:15:00</td>\n",
       "      <td>47878.68</td>\n",
       "      <td>47934.93</td>\n",
       "      <td>47601.10</td>\n",
       "      <td>47661.35</td>\n",
       "      <td>34.712790</td>\n",
       "      <td>1616599799999</td>\n",
       "      <td>1.657986e+06</td>\n",
       "      <td>3315</td>\n",
       "      <td>16.222685</td>\n",
       "      <td>7.752646e+05</td>\n",
       "      <td>0</td>\n",
       "    </tr>\n",
       "    <tr>\n",
       "      <th>42753</th>\n",
       "      <td>2021-03-24 15:30:00</td>\n",
       "      <td>47657.06</td>\n",
       "      <td>47705.39</td>\n",
       "      <td>47411.00</td>\n",
       "      <td>47414.55</td>\n",
       "      <td>50.551049</td>\n",
       "      <td>1616600699999</td>\n",
       "      <td>2.404182e+06</td>\n",
       "      <td>4065</td>\n",
       "      <td>23.406447</td>\n",
       "      <td>1.113508e+06</td>\n",
       "      <td>0</td>\n",
       "    </tr>\n",
       "    <tr>\n",
       "      <th>42754</th>\n",
       "      <td>2021-03-24 15:45:00</td>\n",
       "      <td>47414.86</td>\n",
       "      <td>47638.47</td>\n",
       "      <td>47376.40</td>\n",
       "      <td>47589.28</td>\n",
       "      <td>30.414740</td>\n",
       "      <td>1616601599999</td>\n",
       "      <td>1.443908e+06</td>\n",
       "      <td>3152</td>\n",
       "      <td>19.111199</td>\n",
       "      <td>9.074120e+05</td>\n",
       "      <td>0</td>\n",
       "    </tr>\n",
       "    <tr>\n",
       "      <th>42755</th>\n",
       "      <td>2021-03-24 16:00:00</td>\n",
       "      <td>47592.68</td>\n",
       "      <td>47700.00</td>\n",
       "      <td>47350.00</td>\n",
       "      <td>47477.14</td>\n",
       "      <td>28.206175</td>\n",
       "      <td>1616602499999</td>\n",
       "      <td>1.340052e+06</td>\n",
       "      <td>3387</td>\n",
       "      <td>15.675022</td>\n",
       "      <td>7.448968e+05</td>\n",
       "      <td>0</td>\n",
       "    </tr>\n",
       "    <tr>\n",
       "      <th>42756</th>\n",
       "      <td>2021-03-24 16:15:00</td>\n",
       "      <td>47482.71</td>\n",
       "      <td>47494.94</td>\n",
       "      <td>47232.17</td>\n",
       "      <td>47235.65</td>\n",
       "      <td>17.420484</td>\n",
       "      <td>1616603399999</td>\n",
       "      <td>8.249019e+05</td>\n",
       "      <td>1659</td>\n",
       "      <td>6.163913</td>\n",
       "      <td>2.918072e+05</td>\n",
       "      <td>0</td>\n",
       "    </tr>\n",
       "  </tbody>\n",
       "</table>\n",
       "<p>2267 rows × 12 columns</p>\n",
       "</div>"
      ],
      "text/plain": [
       "                 timestamp      open      high       low     close     volume  \\\n",
       "40490  2021-03-01 00:15:00  37706.06  38401.15  37672.96  38268.84  59.363597   \n",
       "40491  2021-03-01 00:30:00  38278.45  38600.00  38270.15  38343.60  41.559889   \n",
       "40492  2021-03-01 00:45:00  38342.03  38487.66  38253.06  38326.84  19.732699   \n",
       "40493  2021-03-01 01:00:00  38328.69  38425.42  38153.23  38220.06  13.811259   \n",
       "40494  2021-03-01 01:15:00  38221.98  38316.13  38069.09  38277.22  26.304264   \n",
       "...                    ...       ...       ...       ...       ...        ...   \n",
       "42752  2021-03-24 15:15:00  47878.68  47934.93  47601.10  47661.35  34.712790   \n",
       "42753  2021-03-24 15:30:00  47657.06  47705.39  47411.00  47414.55  50.551049   \n",
       "42754  2021-03-24 15:45:00  47414.86  47638.47  47376.40  47589.28  30.414740   \n",
       "42755  2021-03-24 16:00:00  47592.68  47700.00  47350.00  47477.14  28.206175   \n",
       "42756  2021-03-24 16:15:00  47482.71  47494.94  47232.17  47235.65  17.420484   \n",
       "\n",
       "          close_time      quote_av  trades  tb_base_av   tb_quote_av  ignore  \n",
       "40490  1614558599999  2.266480e+06    3019   32.643451  1.246248e+06       0  \n",
       "40491  1614559499999  1.598640e+06    2082   26.339773  1.013036e+06       0  \n",
       "40492  1614560399999  7.570162e+05    1299    9.807765  3.761798e+05       0  \n",
       "40493  1614561299999  5.286249e+05    1050    6.920973  2.648596e+05       0  \n",
       "40494  1614562199999  1.004925e+06    1200   11.803032  4.507826e+05       0  \n",
       "...              ...           ...     ...         ...           ...     ...  \n",
       "42752  1616599799999  1.657986e+06    3315   16.222685  7.752646e+05       0  \n",
       "42753  1616600699999  2.404182e+06    4065   23.406447  1.113508e+06       0  \n",
       "42754  1616601599999  1.443908e+06    3152   19.111199  9.074120e+05       0  \n",
       "42755  1616602499999  1.340052e+06    3387   15.675022  7.448968e+05       0  \n",
       "42756  1616603399999  8.249019e+05    1659    6.163913  2.918072e+05       0  \n",
       "\n",
       "[2267 rows x 12 columns]"
      ]
     },
     "execution_count": 46,
     "metadata": {},
     "output_type": "execute_result"
    }
   ],
   "source": [
    "data = btc[(btc['timestamp'] > '2021-03-01 00:00:00') ]\n",
    "data"
   ]
  },
  {
   "cell_type": "code",
   "execution_count": 47,
   "metadata": {},
   "outputs": [
    {
     "data": {
      "image/png": "[encoded data removed]",
      "text/plain": [
       "<Figure size 1080x576 with 2 Axes>"
      ]
     },
     "metadata": {
      "needs_background": "light"
     },
     "output_type": "display_data"
    }
   ],
   "source": [
    "\n",
    "fig, ax = plt.subplots(nrows=2, sharex=True, figsize=(15,8))\n",
    "data.plot(x=\"timestamp\", y=[\"high\",\"low\"], rot= 70, ax=ax[0])\n",
    "data.plot.bar(x=\"timestamp\", y=\"volume\", rot= 70, ax=ax[1])\n",
    "#ax[0].plot(data.timestamp, data.high, rot=70)\n",
    "#ax[1].bar(data.timestamp, data.volume, width=1/(5*len(data.timestamp)))\n",
    "#fig.autofmt_xdate()\n",
    "ax[1].xaxis.set_major_locator(ticker.MultipleLocator(100))\n",
    "plt.show()"
   ]
  },
  {
   "cell_type": "code",
   "execution_count": null,
   "metadata": {},
   "outputs": [],
   "source": []
  }
 ],
 "metadata": {
  "kernelspec": {
   "display_name": "Python 3",
   "language": "python",
   "name": "python3"
  },
  "language_info": {
   "codemirror_mode": {
    "name": "ipython",
    "version": 3
   },
   "file_extension": ".py",
   "mimetype": "text/x-python",
   "name": "python",
   "nbconvert_exporter": "python",
   "pygments_lexer": "ipython3",
   "version": "3.7.6"
  }
 },
 "nbformat": 4,
 "nbformat_minor": 4
}
